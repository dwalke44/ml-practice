{
 "cells": [
  {
   "cell_type": "markdown",
   "id": "63e7bd52",
   "metadata": {},
   "source": [
    "## Classifying the MNIST handwriting with Keras"
   ]
  },
  {
   "cell_type": "markdown",
   "id": "28fbe035",
   "metadata": {},
   "source": [
    "In this notebook, I will work throught the CNN example from the Keras documentation to develop a network that will recognize the grayscale handwritten images of numbers in the MNIST handwriting sample data base. I will also be documenting the impacts that changes to various hyperparameters have on the performance of the convolutional neural network."
   ]
  },
  {
   "cell_type": "markdown",
   "id": "421855db",
   "metadata": {},
   "source": [
    "### Import packages"
   ]
  },
  {
   "cell_type": "code",
   "execution_count": 1,
   "id": "06135cd8",
   "metadata": {},
   "outputs": [],
   "source": [
    "import numpy as np\n",
    "import pandas as pd\n",
    "from tensorflow import keras\n",
    "from tensorflow.keras import layers"
   ]
  },
  {
   "cell_type": "markdown",
   "id": "0ec12c9a",
   "metadata": {},
   "source": [
    "### Import training and test data"
   ]
  },
  {
   "cell_type": "code",
   "execution_count": 2,
   "id": "a69b9e3d",
   "metadata": {},
   "outputs": [],
   "source": [
    "(x_train, y_train), (x_test, y_test) = keras.datasets.mnist.load_data()"
   ]
  },
  {
   "cell_type": "markdown",
   "id": "9a4cca82",
   "metadata": {},
   "source": [
    "The data downloads from the internet, which is kinda neat. X data sets are 256x256 grayscale pixel values, and the Y sets are numeric labels of the handwritten digits."
   ]
  },
  {
   "cell_type": "code",
   "execution_count": 3,
   "id": "4322df1e",
   "metadata": {},
   "outputs": [
    {
     "data": {
      "text/plain": [
       "4"
      ]
     },
     "execution_count": 3,
     "metadata": {},
     "output_type": "execute_result"
    }
   ],
   "source": [
    "y_train[2]"
   ]
  },
  {
   "cell_type": "markdown",
   "id": "25a2ce7c",
   "metadata": {},
   "source": [
    "### Prepare data for modeling"
   ]
  },
  {
   "cell_type": "markdown",
   "id": "3e22ca7a",
   "metadata": {},
   "source": [
    "Next, I need to manipulate the X data so that they range in value from 0 to 1 and to standardize their shapes to a matrix [28,28,1]."
   ]
  },
  {
   "cell_type": "code",
   "execution_count": 4,
   "id": "4b7ad1dc",
   "metadata": {},
   "outputs": [
    {
     "name": "stdout",
     "output_type": "stream",
     "text": [
      "Number of X train dimensions  3\n",
      "Shape of X train  (60000, 28, 28)\n"
     ]
    }
   ],
   "source": [
    "x_train = x_train.astype(\"float32\") / 255\n",
    "x_test = x_test.astype(\"float32\") / 255\n",
    "print(\"Number of X train dimensions \", x_train.ndim)\n",
    "print(\"Shape of X train \", x_train.shape)"
   ]
  },
  {
   "cell_type": "markdown",
   "id": "2e1c4b3c",
   "metadata": {},
   "source": [
    "Each grayscale value for each pixel can range from 0 (white) to 255 (fully black) in value. By dividing my the max value, all of the pixels now range in value from 0 to 1. This is a prerequisite because most machine learning algorithms expect categorical input data to be on the scale of 0 to 1. According to [this blog post](https://machinelearningmastery.com/how-to-improve-neural-network-stability-and-modeling-performance-with-data-scaling/) not scaling inputs can lead to unstable or slow learning during training."
   ]
  },
  {
   "cell_type": "code",
   "execution_count": 5,
   "id": "2d33417f",
   "metadata": {},
   "outputs": [
    {
     "name": "stdout",
     "output_type": "stream",
     "text": [
      "Number of X train dimensions  4\n",
      "Shape of X train  (60000, 28, 28, 1)\n",
      "60000 train samples\n",
      "10000 test samples\n"
     ]
    }
   ],
   "source": [
    "x_train = np.expand_dims(x_train, -1)\n",
    "x_test = np.expand_dims(x_test, -1)\n",
    "print(\"Number of X train dimensions \", x_train.ndim)\n",
    "print(\"Shape of X train \", x_train.shape)\n",
    "print(x_train.shape[0], \"train samples\")\n",
    "print(x_test.shape[0], \"test samples\")\n"
   ]
  },
  {
   "cell_type": "markdown",
   "id": "6fd28c0b",
   "metadata": {
    "tags": []
   },
   "source": [
    "Numpy\\s 'expand_dims()' function works to "
   ]
  }
 ],
 "metadata": {
  "kernelspec": {
   "display_name": "Python 3",
   "language": "python",
   "name": "python3"
  },
  "language_info": {
   "codemirror_mode": {
    "name": "ipython",
    "version": 3
   },
   "file_extension": ".py",
   "mimetype": "text/x-python",
   "name": "python",
   "nbconvert_exporter": "python",
   "pygments_lexer": "ipython3",
   "version": "3.8.8"
  }
 },
 "nbformat": 4,
 "nbformat_minor": 5
}
